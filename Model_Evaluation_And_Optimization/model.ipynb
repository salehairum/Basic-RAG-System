{
 "cells": [
  {
   "cell_type": "markdown",
   "id": "3f34ccf4",
   "metadata": {},
   "source": [
    "### Load Model"
   ]
  },
  {
   "cell_type": "code",
   "execution_count": 1,
   "id": "f8245737",
   "metadata": {},
   "outputs": [
    {
     "name": "stderr",
     "output_type": "stream",
     "text": [
      "c:\\Users\\saleh\\OneDrive\\Documents\\uni\\Quest_Internship\\venv\\Lib\\site-packages\\tqdm\\auto.py:21: TqdmWarning: IProgress not found. Please update jupyter and ipywidgets. See https://ipywidgets.readthedocs.io/en/stable/user_install.html\n",
      "  from .autonotebook import tqdm as notebook_tqdm\n"
     ]
    },
    {
     "data": {
      "text/plain": [
       "GPT2LMHeadModel(\n",
       "  (transformer): GPT2Model(\n",
       "    (wte): Embedding(50257, 768)\n",
       "    (wpe): Embedding(1024, 768)\n",
       "    (drop): Dropout(p=0.1, inplace=False)\n",
       "    (h): ModuleList(\n",
       "      (0-11): 12 x GPT2Block(\n",
       "        (ln_1): LayerNorm((768,), eps=1e-05, elementwise_affine=True)\n",
       "        (attn): GPT2Attention(\n",
       "          (c_attn): Conv1D(nf=2304, nx=768)\n",
       "          (c_proj): Conv1D(nf=768, nx=768)\n",
       "          (attn_dropout): Dropout(p=0.1, inplace=False)\n",
       "          (resid_dropout): Dropout(p=0.1, inplace=False)\n",
       "        )\n",
       "        (ln_2): LayerNorm((768,), eps=1e-05, elementwise_affine=True)\n",
       "        (mlp): GPT2MLP(\n",
       "          (c_fc): Conv1D(nf=3072, nx=768)\n",
       "          (c_proj): Conv1D(nf=768, nx=3072)\n",
       "          (act): NewGELUActivation()\n",
       "          (dropout): Dropout(p=0.1, inplace=False)\n",
       "        )\n",
       "      )\n",
       "    )\n",
       "    (ln_f): LayerNorm((768,), eps=1e-05, elementwise_affine=True)\n",
       "  )\n",
       "  (lm_head): Linear(in_features=768, out_features=50257, bias=False)\n",
       ")"
      ]
     },
     "execution_count": 1,
     "metadata": {},
     "output_type": "execute_result"
    }
   ],
   "source": [
    "from transformers import GPT2LMHeadModel, GPT2Tokenizer\n",
    "\n",
    "model_name = \"gpt2\"\n",
    "tokenizer = GPT2Tokenizer.from_pretrained(model_name)\n",
    "model = GPT2LMHeadModel.from_pretrained(model_name)\n",
    "model.eval()\n"
   ]
  },
  {
   "cell_type": "markdown",
   "id": "556455a2",
   "metadata": {},
   "source": [
    "#### Perplexity"
   ]
  },
  {
   "cell_type": "code",
   "execution_count": 17,
   "id": "9ceceae5",
   "metadata": {},
   "outputs": [
    {
     "name": "stdout",
     "output_type": "stream",
     "text": [
      "Text: Apple released a new iPhone today, featuring better battery life and a titanium frame.\n",
      "Perplexity: 38.48263277224266\n",
      "\n",
      "Text: In this paper, we derive the Lagrangian multipliers for a non-linear constrained optimization problem.\n",
      "Perplexity: 49.32356583348891\n",
      "\n",
      "Text: To install TensorFlow, run pip install tensorflow in your terminal.\n",
      "Perplexity: 16.321108164977097\n",
      "\n"
     ]
    }
   ],
   "source": [
    "import torch\n",
    "import math\n",
    "\n",
    "def calculate_perplexity(text, model, tokenizer):\n",
    "    inputs = tokenizer(text, return_tensors=\"pt\")  #return pt means to return pytorch tensors\n",
    "    with torch.no_grad():  #to prevent carrying out unnecessary training functions\n",
    "        outputs = model(**inputs, labels=inputs[\"input_ids\"])  #for prediction\n",
    "        loss = outputs.loss   #this is cross entropy loss\n",
    "    return math.exp(loss.item())   #perpelixity=e ^ cross entropy loss\n",
    "\n",
    "#different perplexity for different texts\n",
    "text1 = \"Apple released a new iPhone today, featuring better battery life and a titanium frame.\"\n",
    "text2 = \"In this paper, we derive the Lagrangian multipliers for a non-linear constrained optimization problem.\"\n",
    "text3 = \"To install TensorFlow, run pip install tensorflow in your terminal.\"\n",
    "\n",
    "for text in [text1, text2, text3]:\n",
    "    print(f\"Text: {text}\\nPerplexity: {calculate_perplexity(text, model, tokenizer)}\\n\")\n"
   ]
  },
  {
   "cell_type": "markdown",
   "id": "47046ba3",
   "metadata": {},
   "source": [
    "#### BLEU, Rouge and BERTScore"
   ]
  },
  {
   "cell_type": "code",
   "execution_count": 10,
   "id": "0866f784",
   "metadata": {},
   "outputs": [
    {
     "name": "stderr",
     "output_type": "stream",
     "text": [
      "The following generation flags are not valid and may be ignored: ['temperature', 'top_p']. Set `TRANSFORMERS_VERBOSITY=info` for more details.\n",
      "Setting `pad_token_id` to `eos_token_id`:50256 for open-end generation.\n"
     ]
    },
    {
     "name": "stdout",
     "output_type": "stream",
     "text": [
      "What is the capital of France?\n",
      "\n",
      "The capital of France is Paris.\n",
      "\n",
      "The capital of France is Paris.\n",
      "\n",
      "\n"
     ]
    }
   ],
   "source": [
    "input_prompt = \"What is the capital of France?\"\n",
    "inputs = tokenizer(input_prompt, return_tensors=\"pt\")\n",
    "outputs = model.generate(\n",
    "    **inputs,\n",
    "    max_new_tokens=20,\n",
    "    do_sample=False,\n",
    "    temperature=0.7,\n",
    "    top_p=0.9,\n",
    ")\n",
    "\n",
    "generated_text = tokenizer.decode(outputs[0], skip_special_tokens=True)\n",
    "print(generated_text)"
   ]
  },
  {
   "cell_type": "markdown",
   "id": "be7c4aac",
   "metadata": {},
   "source": [
    "Keeping do_sample=true can give very wierd and vague answers sometimes as well. \n",
    "\n",
    "| Parameter           | Meaning                                                                |\n",
    "| ------------------- | ---------------------------------------------------------------------- |\n",
    "| `max_new_tokens=20` | Limits generation to 20 new tokens max                                 |\n",
    "| `do_sample=True`    | Enables random sampling (instead of greedy/argmax)                     |\n",
    "| `temperature=0.7`   | Controls randomness; <1 → more focused, >1 → more diverse              |\n",
    "| `top_p=0.9`         | Enables **nucleus sampling**: only sample from top 90% probable tokens |\n"
   ]
  },
  {
   "cell_type": "code",
   "execution_count": 19,
   "id": "2d5610af",
   "metadata": {},
   "outputs": [
    {
     "name": "stderr",
     "output_type": "stream",
     "text": [
      "Xet Storage is enabled for this repo, but the 'hf_xet' package is not installed. Falling back to regular HTTP download. For better performance, install the package with: `pip install huggingface_hub[hf_xet]` or `pip install hf_xet`\n",
      "WARNING:huggingface_hub.file_download:Xet Storage is enabled for this repo, but the 'hf_xet' package is not installed. Falling back to regular HTTP download. For better performance, install the package with: `pip install huggingface_hub[hf_xet]` or `pip install hf_xet`\n",
      "Some weights of RobertaModel were not initialized from the model checkpoint at roberta-large and are newly initialized: ['pooler.dense.bias', 'pooler.dense.weight']\n",
      "You should probably TRAIN this model on a down-stream task to be able to use it for predictions and inference.\n"
     ]
    },
    {
     "name": "stdout",
     "output_type": "stream",
     "text": [
      "BLEU: 0.18493046910349434\n",
      "ROUGE-1: 0.5\n",
      "ROUGE-L: 0.4166666666666667\n",
      "\n",
      "BERTScore Precision: 0.8658912777900696\n",
      "BERTScore Recall: 0.8942316174507141\n",
      "BERTScore F1: 0.8798332810401917\n"
     ]
    }
   ],
   "source": [
    "import evaluate\n",
    "\n",
    "bleu = evaluate.load(\"bleu\")\n",
    "rouge = evaluate.load(\"rouge\")\n",
    "bertscore = evaluate.load(\"bertscore\")\n",
    "\n",
    "references = [\"Paris is the capital of France.\"]  # ground truth\n",
    "predictions = [generated_text]\n",
    "\n",
    "bleu_result = bleu.compute(predictions=predictions, references=[references])\n",
    "rouge_result = rouge.compute(predictions=predictions, references=references)\n",
    "\n",
    "bertscore_result = bertscore.compute(predictions=predictions, references=references, lang=\"en\")\n",
    "\n",
    "print(\"BLEU:\", bleu_result[\"bleu\"])\n",
    "print(\"ROUGE-1:\", rouge_result[\"rouge1\"])\n",
    "print(\"ROUGE-L:\", rouge_result[\"rougeL\"])\n",
    "\n",
    "print(\"\\nBERTScore Precision:\", bertscore_result[\"precision\"][0])\n",
    "print(\"BERTScore Recall:\", bertscore_result[\"recall\"][0])\n",
    "print(\"BERTScore F1:\", bertscore_result[\"f1\"][0])\n"
   ]
  },
  {
   "cell_type": "markdown",
   "id": "466ebd26",
   "metadata": {},
   "source": [
    "- BLEU gives a low score because it cares about order\n",
    "- Rouge basically checks a bit more about how many of the original words were used, so its score is not as bad as BLEU\n",
    "- BERTScore also checks semantics, so it gives an even better score"
   ]
  },
  {
   "cell_type": "markdown",
   "id": "1b20b214",
   "metadata": {},
   "source": [
    "#### Hyperparameter Tuning\n",
    "- For a pretrained model, hyper parameter tuning is on variables like temperature, do_sample etc. \n",
    "- Testing different values for different kinds of expected responses(e.g deterministic, creative)"
   ]
  },
  {
   "cell_type": "markdown",
   "id": "bd7b241f",
   "metadata": {},
   "source": [
    "##### Trying to get a deterministic output"
   ]
  },
  {
   "cell_type": "code",
   "execution_count": 42,
   "id": "816438e4",
   "metadata": {},
   "outputs": [
    {
     "name": "stderr",
     "output_type": "stream",
     "text": [
      "Setting `pad_token_id` to `eos_token_id`:50256 for open-end generation.\n"
     ]
    },
    {
     "name": "stdout",
     "output_type": "stream",
     "text": [
      "In which continent is Pakistan located?\n",
      "\n",
      "Pakistan is located in the south-east of the country. It\n"
     ]
    }
   ],
   "source": [
    "input_prompt = \"In which continent is Pakistan located?\"\n",
    "inputs = tokenizer(input_prompt, return_tensors=\"pt\")\n",
    "outputs = model.generate(\n",
    "    **inputs,\n",
    "    max_new_tokens=15,  \n",
    "    do_sample=False,\n",
    "    num_beams=5, \n",
    "    early_stopping=True,\n",
    "    no_repeat_ngram_size=2\n",
    ")\n",
    "\n",
    "generated_text = tokenizer.decode(outputs[0], skip_special_tokens=True)\n",
    "print(generated_text)"
   ]
  },
  {
   "cell_type": "markdown",
   "id": "c1973838",
   "metadata": {},
   "source": [
    "##### Creative Output"
   ]
  },
  {
   "cell_type": "code",
   "execution_count": 52,
   "id": "03b17db9",
   "metadata": {},
   "outputs": [
    {
     "name": "stderr",
     "output_type": "stream",
     "text": [
      "Setting `pad_token_id` to `eos_token_id`:50256 for open-end generation.\n"
     ]
    },
    {
     "name": "stdout",
     "output_type": "stream",
     "text": [
      "What advice would a cat give to a human?\n",
      "\n",
      "\"I'm not saying that cats are good for you. They're not. But there are some things that you have to do when you're with a cat, and there are some things that you have to do when you're not with a cat, and then you have to be careful.\"\n",
      "\n",
      "He also said that cat owners who are concerned about the safety of their pets are encouraged\n"
     ]
    }
   ],
   "source": [
    "input_prompt = \"What advice would a cat give to a human?\"\n",
    "inputs = tokenizer(input_prompt, return_tensors=\"pt\")\n",
    "outputs = model.generate(\n",
    "    **inputs,\n",
    "    max_new_tokens=80,\n",
    "    do_sample=True,\n",
    "    temperature=0.7,\n",
    "    top_p=0.9,\n",
    ")\n",
    "\n",
    "generated_text = tokenizer.decode(outputs[0], skip_special_tokens=True)\n",
    "print(generated_text)"
   ]
  },
  {
   "cell_type": "markdown",
   "id": "60b4b85f",
   "metadata": {},
   "source": [
    "Gpt 2 is better at creative responses"
   ]
  },
  {
   "cell_type": "markdown",
   "id": "1012ac11",
   "metadata": {},
   "source": [
    "### Export To ONNX"
   ]
  },
  {
   "cell_type": "code",
   "execution_count": null,
   "id": "ec864d37",
   "metadata": {},
   "outputs": [],
   "source": [
    "import torch\n",
    "\n",
    "dummy_input = tokenizer(\"Hello, world!\", return_tensors=\"pt\")[\"input_ids\"]\n",
    "#this is done to make sure that the model runs the input at least once to understand the general flow\n",
    "\n",
    "torch.onnx.export(\n",
    "    model,\n",
    "    dummy_input,\n",
    "    \"gpt2.onnx\",\n",
    "    input_names=[\"input_ids\"],\n",
    "    output_names=[\"logits\"], \n",
    "    #allows for different input sizes\n",
    "    #batch_size: no of prompts in one forward pass\n",
    "    #sequence_length: no of tokens in each prompt\n",
    "    dynamic_axes={\"input_ids\": {0: \"batch_size\", 1: \"sequence_length\"},\n",
    "                  \"logits\": {0: \"batch_size\", 1: \"sequence_length\"}},\n",
    "    opset_version=14,\n",
    ")\n"
   ]
  },
  {
   "cell_type": "code",
   "execution_count": 57,
   "id": "de70ff16",
   "metadata": {},
   "outputs": [
    {
     "name": "stdout",
     "output_type": "stream",
     "text": [
      "Input text: The cat sat on the\n",
      "Next predicted token:  floor\n"
     ]
    }
   ],
   "source": [
    "import torch\n",
    "import numpy as np\n",
    "import onnxruntime as ort\n",
    "\n",
    "# Load ONNX model\n",
    "ort_session = ort.InferenceSession(\"gpt2.onnx\")\n",
    "\n",
    "def onnx_inference(text):\n",
    "    inputs = tokenizer(text, return_tensors=\"np\")\n",
    "    ort_inputs = {ort_session.get_inputs()[0].name: inputs[\"input_ids\"]}\n",
    "    ort_outs = ort_session.run(None, ort_inputs)\n",
    "    logits = ort_outs[0]  # shape: (batch_size, seq_len, vocab_size)\n",
    "    return logits\n",
    "\n",
    "def logits_to_text(logits):\n",
    "    # Convert logits to PyTorch tensor for convenience\n",
    "    logits_tensor = torch.tensor(logits)\n",
    "\n",
    "    # Take the last token's logits for generation\n",
    "    last_token_logits = logits_tensor[0, -1, :]\n",
    "\n",
    "    # Apply softmax to get probabilities\n",
    "    probs = torch.softmax(last_token_logits, dim=0)\n",
    "\n",
    "    # Pick the token with highest probability (greedy decoding)\n",
    "    predicted_token_id = torch.argmax(probs).item()\n",
    "\n",
    "    # Decode predicted token id back to text\n",
    "    predicted_token = tokenizer.decode([predicted_token_id])\n",
    "\n",
    "    return predicted_token\n",
    "\n",
    "# Example usage:\n",
    "input_text = \"The cat sat on the\"\n",
    "logits = onnx_inference(input_text)\n",
    "predicted_token = logits_to_text(logits)\n",
    "\n",
    "print(f\"Input text: {input_text}\")\n",
    "print(f\"Next predicted token: {predicted_token}\")\n"
   ]
  },
  {
   "cell_type": "markdown",
   "id": "73ba0c7b",
   "metadata": {},
   "source": [
    "### Compare ONNX and PyTorch"
   ]
  },
  {
   "cell_type": "code",
   "execution_count": 63,
   "id": "76dd8e0a",
   "metadata": {},
   "outputs": [
    {
     "name": "stdout",
     "output_type": "stream",
     "text": [
      "PyTorch inference time: 0.0949 seconds\n"
     ]
    }
   ],
   "source": [
    "import time\n",
    "import torch\n",
    "\n",
    "model.to(\"cpu\")\n",
    "\n",
    "def pytorch_inference(text):\n",
    "    inputs = tokenizer(text, return_tensors=\"pt\")\n",
    "    with torch.no_grad():\n",
    "        outputs = model(**inputs)\n",
    "    return outputs.logits\n",
    "\n",
    "# Warm-up (optional, for fair timing)\n",
    "pytorch_inference(\"She was sitting on the\")\n",
    "\n",
    "start = time.time()\n",
    "logits_pt = pytorch_inference(\"She was sitting on the\")\n",
    "end = time.time()\n",
    "print(f\"PyTorch inference time: {end - start:.4f} seconds\")\n"
   ]
  },
  {
   "cell_type": "code",
   "execution_count": 64,
   "id": "a04a73cd",
   "metadata": {},
   "outputs": [
    {
     "name": "stdout",
     "output_type": "stream",
     "text": [
      "ONNX Runtime inference time: 0.1280 seconds\n"
     ]
    }
   ],
   "source": [
    "import onnxruntime as ort\n",
    "import numpy as np\n",
    "\n",
    "ort_session = ort.InferenceSession(\"gpt2.onnx\")\n",
    "\n",
    "def onnx_inference(text):\n",
    "    inputs = tokenizer(text, return_tensors=\"np\")\n",
    "    ort_inputs = {ort_session.get_inputs()[0].name: inputs[\"input_ids\"]}\n",
    "    ort_outs = ort_session.run(None, ort_inputs)\n",
    "    return ort_outs[0]\n",
    "\n",
    "# Warm-up\n",
    "onnx_inference(\"She was sitting on the\")\n",
    "\n",
    "start = time.time()\n",
    "logits_onnx = onnx_inference(\"She was sitting on the\")\n",
    "end = time.time()\n",
    "print(f\"ONNX Runtime inference time: {end - start:.4f} seconds\")\n"
   ]
  },
  {
   "cell_type": "code",
   "execution_count": 65,
   "id": "9ac507ff",
   "metadata": {},
   "outputs": [
    {
     "name": "stdout",
     "output_type": "stream",
     "text": [
      "Average PyTorch inference time over 5 runs: 0.4199 s\n",
      "Average ONNX Runtime inference time over 5 runs: 0.0544 s\n"
     ]
    },
    {
     "data": {
      "image/png": "[encoded data removed]",
      "text/plain": [
       "<Figure size 640x480 with 1 Axes>"
      ]
     },
     "metadata": {},
     "output_type": "display_data"
    }
   ],
   "source": [
    "import time\n",
    "import torch\n",
    "import onnxruntime as ort\n",
    "import numpy as np\n",
    "import matplotlib.pyplot as plt\n",
    "\n",
    "model.to(\"cpu\")\n",
    "ort_session = ort.InferenceSession(\"gpt2.onnx\")\n",
    "\n",
    "def pytorch_inference(text):\n",
    "    inputs = tokenizer(text, return_tensors=\"pt\")\n",
    "    with torch.no_grad():\n",
    "        outputs = model(**inputs)\n",
    "    return outputs.logits\n",
    "\n",
    "def onnx_inference(text):\n",
    "    inputs = tokenizer(text, return_tensors=\"np\")\n",
    "    ort_inputs = {ort_session.get_inputs()[0].name: inputs[\"input_ids\"]}\n",
    "    ort_outs = ort_session.run(None, ort_inputs)\n",
    "    return ort_outs[0]\n",
    "\n",
    "input_text = \"She was sitting on the\"\n",
    "num_trials = 5\n",
    "\n",
    "# Warm-up\n",
    "pytorch_inference(input_text)\n",
    "onnx_inference(input_text)\n",
    "\n",
    "# Measure PyTorch times\n",
    "pt_times = []\n",
    "for _ in range(num_trials):\n",
    "    start = time.time()\n",
    "    pytorch_inference(input_text)\n",
    "    end = time.time()\n",
    "    pt_times.append(end - start)\n",
    "\n",
    "# Measure ONNX Runtime times\n",
    "onnx_times = []\n",
    "for _ in range(num_trials):\n",
    "    start = time.time()\n",
    "    onnx_inference(input_text)\n",
    "    end = time.time()\n",
    "    onnx_times.append(end - start)\n",
    "\n",
    "# Average times\n",
    "avg_pt = sum(pt_times) / num_trials\n",
    "avg_onnx = sum(onnx_times) / num_trials\n",
    "\n",
    "print(f\"Average PyTorch inference time over {num_trials} runs: {avg_pt:.4f} s\")\n",
    "print(f\"Average ONNX Runtime inference time over {num_trials} runs: {avg_onnx:.4f} s\")\n",
    "\n",
    "# Plotting\n",
    "plt.bar([\"PyTorch\", \"ONNX Runtime\"], [avg_pt, avg_onnx], color=[\"blue\", \"orange\"])\n",
    "plt.ylabel(\"Average Inference Time (seconds)\")\n",
    "plt.title(\"PyTorch vs ONNX Runtime Inference Time\")\n",
    "plt.show()\n"
   ]
  },
  {
   "cell_type": "markdown",
   "id": "ea9125f6",
   "metadata": {},
   "source": []
  }
 ],
 "metadata": {
  "kernelspec": {
   "display_name": "venv",
   "language": "python",
   "name": "python3"
  },
  "language_info": {
   "codemirror_mode": {
    "name": "ipython",
    "version": 3
   },
   "file_extension": ".py",
   "mimetype": "text/x-python",
   "name": "python",
   "nbconvert_exporter": "python",
   "pygments_lexer": "ipython3",
   "version": "3.11.11"
  }
 },
 "nbformat": 4,
 "nbformat_minor": 5
}
